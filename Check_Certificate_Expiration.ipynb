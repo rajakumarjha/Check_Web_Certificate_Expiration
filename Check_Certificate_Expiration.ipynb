{
 "cells": [
  {
   "cell_type": "markdown",
   "metadata": {},
   "source": [
    "# This code will print if web certificate is going to expire in next 30days or not."
   ]
  },
  {
   "cell_type": "code",
   "execution_count": 55,
   "metadata": {},
   "outputs": [],
   "source": [
    "# Import libraries\n",
    "import ssl, socket\n",
    "from datetime import date\n"
   ]
  },
  {
   "cell_type": "code",
   "execution_count": 56,
   "metadata": {},
   "outputs": [],
   "source": [
    "## fetching certificate details from given url and port\n",
    "## Can take input from some file or user\n",
    "hostname = 'google.com'\n",
    "port=443\n",
    "try:\n",
    "    \n",
    "    ctx = ssl.create_default_context()\n",
    "    with ctx.wrap_socket(socket.socket(), server_hostname=hostname) as s:\n",
    "        s.connect((hostname, port))\n",
    "        cert = s.getpeercert()\n",
    "except:\n",
    "    print(\"Unable to make a connection!!\")"
   ]
  },
  {
   "cell_type": "code",
   "execution_count": 57,
   "metadata": {},
   "outputs": [],
   "source": [
    "# change the short name of month to its int value\n",
    "def month_name_to_num(month):\n",
    "    month=month[0:3]\n",
    "    month=month.lower()\n",
    "    maping ={ 'jan' : 1,'feb' : 2,'mar' : 3,'apr' : 4,'may' : 5,'jun' : 6,'jul' : 7,'aug' : 8,'sep' : 9, 'oct' : 10,'nov' : 11,\n",
    "            'dec' : 12}\n",
    "    return maping[month]"
   ]
  },
  {
   "cell_type": "code",
   "execution_count": 58,
   "metadata": {},
   "outputs": [],
   "source": [
    "#Storing information about date of expiration\n",
    "valid_upto=cert['notAfter']\n",
    "cert_info_lst=valid_upto.split(\" \")\n",
    "cert_month=month_name_to_num(cert_info_lst[0])\n",
    "cert_day=int(cert_info_lst[1])\n",
    "cert_year=int(cert_info_lst[3])"
   ]
  },
  {
   "cell_type": "code",
   "execution_count": 59,
   "metadata": {},
   "outputs": [],
   "source": [
    "# Collecting today's day and date annd year \n",
    "today = date.today()\n",
    "today_date = today.strftime(\"%b-%d-%Y\")\n",
    "today_info_lst=today_date.split(\"-\")\n",
    "\n",
    "# changing string to int for comparision\n",
    "today_month=month_name_to_num(today_info_lst[0])\n",
    "today_day=int(today_info_lst[1])\n",
    "today_year=int(today_info_lst[2])\n"
   ]
  },
  {
   "cell_type": "code",
   "execution_count": 62,
   "metadata": {},
   "outputs": [],
   "source": [
    "# Calculating number of days using python inbuilt function\n",
    "today_date = date(today_year, today_month, today_day)\n",
    "cert_date = date(cert_year, cert_month, cert_day)\n",
    "differnce=cert_date-today\n",
    "days=differnce.days"
   ]
  },
  {
   "cell_type": "code",
   "execution_count": 63,
   "metadata": {},
   "outputs": [
    {
     "name": "stdout",
     "output_type": "stream",
     "text": [
      "Number of days left until it will expire is: 59 which is greater than 30\n"
     ]
    }
   ],
   "source": [
    "if(days>30):\n",
    "    print(\"Number of days left until it will expire is: {} which is greater than 30\".format(days))\n",
    "else:\n",
    "    print(\"Number of days left until it will expire is: {} which is lesse than 30\".format(days))"
   ]
  },
  {
   "cell_type": "code",
   "execution_count": null,
   "metadata": {},
   "outputs": [],
   "source": []
  },
  {
   "cell_type": "code",
   "execution_count": null,
   "metadata": {},
   "outputs": [],
   "source": []
  }
 ],
 "metadata": {
  "kernelspec": {
   "display_name": "Python 3",
   "language": "python",
   "name": "python3"
  },
  "language_info": {
   "codemirror_mode": {
    "name": "ipython",
    "version": 3
   },
   "file_extension": ".py",
   "mimetype": "text/x-python",
   "name": "python",
   "nbconvert_exporter": "python",
   "pygments_lexer": "ipython3",
   "version": "3.7.3"
  }
 },
 "nbformat": 4,
 "nbformat_minor": 2
}
